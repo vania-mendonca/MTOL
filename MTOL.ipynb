{
 "cells": [
  {
   "cell_type": "markdown",
   "metadata": {},
   "source": [
    "### Machine Translation with Online Learning"
   ]
  },
  {
   "cell_type": "code",
   "execution_count": null,
   "metadata": {},
   "outputs": [],
   "source": [
    "from pathlib import Path # only supported in Python 3\n",
    "import os\n",
    "\n",
    "from io_utils import *\n",
    "from OnlineAlgorithm import *\n",
    "from TaskModel import *\n",
    "\n",
    "print(\"Done.\")"
   ]
  },
  {
   "cell_type": "markdown",
   "metadata": {},
   "source": [
    "#### Parameters"
   ]
  },
  {
   "cell_type": "code",
   "execution_count": null,
   "metadata": {},
   "outputs": [],
   "source": [
    "# EWAF / EXP3 params\n",
    "algorithm = \"EWAF\" #\"EXP3\" # \"EWAF\n",
    "eta_param = 8 # weight update (EWAF)\n",
    "dp = 2 # reward decimal places\n",
    "reward_function = \"human-avg\"\n",
    "#\"human\" \"human-avg\" \"human-comet\" \"comet\" \"bleu\" \n",
    "\n",
    "# MT params\n",
    "lang = \"en-de\"\n",
    "\n",
    "# Setup\n",
    "cv_fold = \"all\"\n",
    "run =\"1\"\n",
    "\n",
    "data_folder = Path(\"datasets/{}/\".format(lang))\n",
    "results_folder = Path(\"results/{}/\".format(lang))"
   ]
  },
  {
   "cell_type": "markdown",
   "metadata": {},
   "source": [
    "#### Data loading"
   ]
  },
  {
   "cell_type": "code",
   "execution_count": null,
   "metadata": {},
   "outputs": [],
   "source": [
    "learn_sent_ids_filepath = data_folder / \"shuf_ids.txt\"\n",
    "corpus_filepath = data_folder / \"{}.pickle\".format(lang)\n",
    "\n",
    "learning_ids = load_int_list_from_txt(learn_sent_ids_filepath)\n",
    "print(\"First:\", learning_ids[0])\n",
    "\n",
    "full_corpus = load_dataframe_from_pickle(corpus_filepath)\n",
    "\n",
    "print(full_corpus.iloc[0])\n",
    "\n",
    "print(\"Done.\")"
   ]
  },
  {
   "cell_type": "code",
   "execution_count": null,
   "metadata": {},
   "outputs": [],
   "source": [
    "if lang == \"en-de\":\n",
    "    idx = 'sent_id'\n",
    "else:\n",
    "    idx = 'sid'\n",
    "\n",
    "all_model_names = list(full_corpus.system.unique())\n",
    "all_models = []\n",
    "\n",
    "num_of_models = len(all_model_names)\n",
    "\n",
    "for model_name in all_model_names:\n",
    "    \n",
    "    system_info = full_corpus.loc[full_corpus['system'] == model_name]\n",
    "    \n",
    "    translations = dict(zip(system_info[idx], system_info['mt']))\n",
    "    human_scores = dict(zip(system_info[idx], system_info['raw_score']))\n",
    "    bleu_scores = dict(zip(system_info[idx], system_info['bleu_score']))\n",
    "    comet_scores = dict(zip(system_info[idx], system_info['comet_score']))\n",
    "    \n",
    "    model = TaskModel(model_name, translations, human_scores, bleu_scores, comet_scores, num_of_models)\n",
    "    all_models.append(model)\n",
    "    \n",
    "    print(model)\n",
    "    "
   ]
  },
  {
   "cell_type": "markdown",
   "metadata": {},
   "source": [
    "#### Online Learning process and evaluation"
   ]
  },
  {
   "cell_type": "code",
   "execution_count": null,
   "metadata": {},
   "outputs": [],
   "source": [
    "oa = init_online_algorithm(algorithm, num_of_models, decimal_places=dp, eta_value=eta_param, reward_function=reward_function)\n",
    "print(oa)"
   ]
  },
  {
   "cell_type": "code",
   "execution_count": null,
   "metadata": {},
   "outputs": [],
   "source": [
    "weights_filepath = results_folder / \"weights_{}_{}_{}_{}_cv{}_{}.csv\".format(algorithm, reward_function, dp, eta_param, cv_fold, run)\n",
    "\n",
    "# print initial weights\n",
    "models_str = [str(m.model_name) for m in all_models]\n",
    "weights_str = [str(w) for w in oa.weights_as_probabilities]\n",
    "\n",
    "with weights_filepath.open(\"w\", encoding=\"utf8\") as f:\n",
    "    print(','.join(models_str), file=f)\n",
    "    print(','.join(weights_str), file=f)\n",
    "    "
   ]
  },
  {
   "cell_type": "code",
   "execution_count": null,
   "metadata": {},
   "outputs": [],
   "source": [
    "t = 1\n",
    "\n",
    "for sent_id in learning_ids:\n",
    "\n",
    "    print(\" ------------------------- ITERATION {} -------------------------\".format(t))  \n",
    "\n",
    "    f_prediction = oa.forecaster(all_models, sent_id)\n",
    "\n",
    "    oa.update(all_models, t, sent_id)\n",
    "\n",
    "    ### print weights\n",
    "    weights_str = [str(w) for w in oa.weights_as_probabilities]    \n",
    "    with weights_filepath.open(\"a\", encoding=\"utf8\") as f:\n",
    "        print(','.join(weights_str), file=f)\n",
    "\n",
    "    t = t + 1\n",
    "\n",
    "print(\"Done.\")"
   ]
  },
  {
   "cell_type": "code",
   "execution_count": null,
   "metadata": {},
   "outputs": [],
   "source": []
  }
 ],
 "metadata": {
  "kernelspec": {
   "display_name": "ewaal",
   "language": "python",
   "name": "ewaal"
  },
  "language_info": {
   "codemirror_mode": {
    "name": "ipython",
    "version": 3
   },
   "file_extension": ".py",
   "mimetype": "text/x-python",
   "name": "python",
   "nbconvert_exporter": "python",
   "pygments_lexer": "ipython3",
   "version": "3.6.12"
  }
 },
 "nbformat": 4,
 "nbformat_minor": 4
}
