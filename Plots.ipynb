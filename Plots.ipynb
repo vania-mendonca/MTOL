{
 "cells": [
  {
   "cell_type": "markdown",
   "metadata": {},
   "source": [
    "## Plots"
   ]
  },
  {
   "cell_type": "code",
   "execution_count": null,
   "metadata": {},
   "outputs": [],
   "source": [
    "from pathlib import Path # only supported in Python 3\n",
    "import os\n",
    "import pandas as pd\n",
    "import numpy as np\n",
    "import matplotlib.pyplot as plt\n",
    "\n",
    "print(\"Done.\")"
   ]
  },
  {
   "cell_type": "code",
   "execution_count": null,
   "metadata": {},
   "outputs": [],
   "source": [
    "lang = \"lt-en\"\n",
    "algorithm = \"EWAF\" #EXP3 #EWAF\n",
    "reward_function = \"human\" #human human-avg human-comet comet\n",
    "\n",
    "if algorithm == \"EXP3\":\n",
    "    run = \"\"\n",
    "else:\n",
    "    run =\"_1\"\n",
    "\n",
    "results_folder = Path(\"results/{}/\".format(lang))"
   ]
  },
  {
   "cell_type": "code",
   "execution_count": null,
   "metadata": {},
   "outputs": [],
   "source": [
    "all_markers = ['.', ',', 'o', 'v', '^', '<', '>', '1', '2', '3', '4', 's', 'p', '*', 'h', 'H', '+', 'x', 'D', 'd', '|', '_']\n",
    "all_colors = ['brown', 'forestgreen', 'plum', 'olivedrab', 'sandybrown', 'mediumturquoise', 'hotpink', 'gold', 'cornflowerblue', 'tomato', 'limegreen', 'skyblue', 'lightpink', 'rebeccapurple', 'paleturquoise', 'darkgrey', 'midnightblue', 'saddlebrown', 'lightsalmon', 'mediumpurple', 'darkgreen', 'dimgray']\n",
    "\n",
    "print(len(all_markers))\n",
    "print(len(all_colors))"
   ]
  },
  {
   "cell_type": "code",
   "execution_count": null,
   "metadata": {},
   "outputs": [],
   "source": [
    "results_file = results_folder / \"weights_{}_{}_2_8_cvall{}.csv\".format(algorithm, reward_function, run)\n",
    "\n",
    "results_df = pd.read_csv(results_file)\n",
    "results_df.head()"
   ]
  },
  {
   "cell_type": "code",
   "execution_count": null,
   "metadata": {},
   "outputs": [],
   "source": [
    "if algorithm == \"EXP3\":\n",
    "    del results_df['Unnamed: 0']\n",
    "\n",
    "all_systems = list(results_df.columns)\n",
    "print(all_systems)"
   ]
  },
  {
   "cell_type": "code",
   "execution_count": null,
   "metadata": {},
   "outputs": [],
   "source": [
    "# create plot \n",
    "\n",
    "plt.figure(figsize=(30, 8))\n",
    "\n",
    "i = 0\n",
    "for system in all_systems:\n",
    "    #print(i)\n",
    "    plt.plot(results_df.index, results_df[system], label=system, linestyle='-', color=all_colors[i], marker=all_markers[i], markevery=20, ms=10)\n",
    "    i = i + 1\n",
    "\n",
    "plt.xlabel(\"Iteration #\", size=20)\n",
    "plt.xticks(range(0, len(results_df.index) + 1, 100))\n",
    "plt.margins(0.01)  \n",
    "\n",
    "plt.ylabel(\"Weights\", size=20)\n",
    "plt.yticks(np.arange(0, 1.1, step=0.1))\n",
    "\n",
    "plt.tick_params(axis = 'both', which = 'major', labelsize=16)\n",
    "\n",
    "plt.legend(loc='best', ncol=4, fontsize=20)\n",
    "\n",
    "# save plot\n",
    "plot_file = results_folder / \"weights_{}_{}_2_8_cvall{}.pdf\".format(algorithm, reward_function, run)\n",
    "\n",
    "plt.savefig(plot_file, format='pdf', dpi=300, bbox_inches='tight')"
   ]
  },
  {
   "cell_type": "code",
   "execution_count": null,
   "metadata": {},
   "outputs": [],
   "source": []
  }
 ],
 "metadata": {
  "kernelspec": {
   "display_name": "ewaal",
   "language": "python",
   "name": "ewaal"
  },
  "language_info": {
   "codemirror_mode": {
    "name": "ipython",
    "version": 3
   },
   "file_extension": ".py",
   "mimetype": "text/x-python",
   "name": "python",
   "nbconvert_exporter": "python",
   "pygments_lexer": "ipython3",
   "version": "3.6.12"
  }
 },
 "nbformat": 4,
 "nbformat_minor": 4
}
