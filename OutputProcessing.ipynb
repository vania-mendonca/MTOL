{
 "cells": [
  {
   "cell_type": "markdown",
   "metadata": {},
   "source": [
    "## Output processing"
   ]
  },
  {
   "cell_type": "code",
   "execution_count": null,
   "metadata": {},
   "outputs": [],
   "source": [
    "from pathlib import Path # only supported in Python 3\n",
    "import os\n",
    "\n",
    "import pandas as pd\n",
    "import numpy as np\n",
    "\n",
    "from io_utils import *\n",
    "from OnlineAlgorithm import *\n",
    "\n",
    "print(\"Done.\")"
   ]
  },
  {
   "cell_type": "code",
   "execution_count": null,
   "metadata": {},
   "outputs": [],
   "source": [
    "lang = \"lt-en\"\n",
    "reward_function = \"human\"\n",
    "#\"human\" \"human-avg\" \"human-comet\" \"comet\" \"bleu\" \n",
    "\n",
    "data_folder = Path(\"datasets/{}/\".format(lang))\n",
    "results_folder = Path(\"results/{}/\".format(lang))\n",
    "exp3_folder = Path(\"results/{}/runs_EXP3/\".format(lang))"
   ]
  },
  {
   "cell_type": "code",
   "execution_count": null,
   "metadata": {},
   "outputs": [],
   "source": [
    "corpus_filepath = data_folder / \"{}.pickle\".format(lang)\n",
    "\n",
    "full_corpus = load_dataframe_from_pickle(corpus_filepath)\n",
    "\n",
    "print(full_corpus.iloc[0])\n",
    "\n",
    "all_model_names = list(full_corpus.system.unique())\n",
    "\n",
    "print(all_model_names)\n",
    "\n",
    "fold = \"all\""
   ]
  },
  {
   "cell_type": "code",
   "execution_count": null,
   "metadata": {},
   "outputs": [],
   "source": [
    "\n",
    "cv_df = pd.DataFrame()\n",
    "all_runs = []\n",
    "for run in range(1,11):\n",
    "    current_file = exp3_folder / \"weights_EXP3_{}_2_8_cv{}_{}.csv\".format(reward_function, fold, str(run))\n",
    "    current_df = pd.read_csv(current_file) \n",
    "    all_runs.append(current_df)\n",
    "\n",
    "for system in all_model_names:\n",
    "    cv_df[system] = list(np.mean(np.array([df[system] for df in all_runs]), axis=0))\n",
    "\n",
    "cv_df.to_csv(results_folder / \"weights_EXP3_{}_2_8_cv{}.csv\".format(reward_function, fold))\n",
    "    \n",
    "print(\"Done.\")"
   ]
  }
 ],
 "metadata": {
  "kernelspec": {
   "display_name": "ewaal",
   "language": "python",
   "name": "ewaal"
  },
  "language_info": {
   "codemirror_mode": {
    "name": "ipython",
    "version": 3
   },
   "file_extension": ".py",
   "mimetype": "text/x-python",
   "name": "python",
   "nbconvert_exporter": "python",
   "pygments_lexer": "ipython3",
   "version": "3.6.12"
  }
 },
 "nbformat": 4,
 "nbformat_minor": 4
}
